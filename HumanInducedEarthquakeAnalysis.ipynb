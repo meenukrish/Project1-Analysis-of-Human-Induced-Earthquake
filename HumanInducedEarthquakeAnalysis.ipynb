{
 "cells": [
  {
   "cell_type": "markdown",
   "metadata": {},
   "source": [
    "# Project1- Analysis of Human Induced Earthquakes"
   ]
  },
  {
<<<<<<< HEAD
<<<<<<< HEAD
=======
   "cell_type": "code",
   "execution_count": null,
   "metadata": {},
   "outputs": [],
   "source": [

    "#Himani made change to this file"
=======

    "#https://github.com/meenukrish/Project1-Analysis-of-Human-Induced-Earthquake.git"
=======
    "#Project 1\n",
    "\n",
    "#We have decided our project name as : What are the different factors that contribute to human induced earthquake in globally\n",
    "\n",
    "#Team members are: Himani Singh, Meenakshi Nadimuthu and Sadhana Kulkarni\n",
    "\n",
    "#Questions are as follows:\n",
    "\n",
    "#0.Distribution of human induced earthquake causes across different countries?"

   ]
  },
  {
>>>>>>> 2f775083a50d87f611a8424ba000abe19d3e67cf
   "cell_type": "markdown",
   "metadata": {},
   "source": [
    "# 2. Compare growth/reduction of  human induced earthquake causes over a period of time"
=======
   "cell_type": "raw",
   "metadata": {},
   "source": [
    "## 2. Compare growth/reduction of  human induced earthquake causes over a period of time"
>>>>>>> master
   ]
  }
 ],
 "metadata": {
  "kernelspec": {
   "display_name": "Python 3",
   "language": "python",
   "name": "python3"
  },
  "language_info": {
   "codemirror_mode": {
    "name": "ipython",
    "version": 3
   },
   "file_extension": ".py",
   "mimetype": "text/x-python",
   "name": "python",
   "nbconvert_exporter": "python",
   "pygments_lexer": "ipython3",
   "version": "3.7.1"
  }
 },
 "nbformat": 4,
 "nbformat_minor": 2
}
