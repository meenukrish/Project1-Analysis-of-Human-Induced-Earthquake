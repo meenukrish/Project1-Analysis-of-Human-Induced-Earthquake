{
 "cells": [
  {
   "cell_type": "markdown",
   "metadata": {},
   "source": [
    "#  Human Induced Earthquake Analysis - By Meenakshi Nadimuthu"
   ]
  },
  {
   "cell_type": "code",
   "execution_count": 286,
   "metadata": {},
   "outputs": [],
   "source": [
    "# Import all the necessary libraries for the Project \n",
    "\n",
    "%matplotlib notebook\n",
    "%matplotlib inline\n",
    "import pandas as pd\n",
    "import matplotlib.pyplot as plt\n",
    "import requests\n",
    "import gmaps\n",
    "import datetime\n",
    "import numpy as np\n",
    "from matplotlib import cm\n",
    "import warnings\n",
    "import seaborn as sns\n",
    "# from ipywidgets.embed import embed_minimal_html\n",
    "import regex\n",
    "import scipy.stats as stats\n",
    "\n"
   ]
  },
  {
   "cell_type": "markdown",
   "metadata": {},
   "source": [
    "### USGS recorded Earthquake for past day"
   ]
  },
  {
   "cell_type": "code",
   "execution_count": 287,
   "metadata": {},
   "outputs": [],
   "source": [
    "# Retrieve the PastDay Earthquake feed details from USGS website\n",
    "\n",
    "PastDayEarthquakefeedURL =\"https://earthquake.usgs.gov/earthquakes/feed/v1.0/summary/all_day.geojson\"\n",
    "\n",
    "response = requests.get(PastDayEarthquakefeedURL).json()\n",
    "\n",
    "featureslist= response[\"features\"]\n",
    "\n",
    "i = 0\n",
    "\n",
    "# Data extraction from the JSON response \n",
    "\n",
    "PastDayEarthquakeDF = pd.DataFrame()\n",
    "PastDayEarthquakeDF[\"Location\"] = \"\"\n",
    "PastDayEarthquakeDF[\"Latitude\"] = \"\"\n",
    "PastDayEarthquakeDF[\"Longitude\"] = \"\"\n",
    "PastDayEarthquakeDF[\"Magnitude\"] = \"\"\n",
    "\n",
    "for feeds in featureslist:\n",
    "    place = feeds[\"properties\"][\"place\"]\n",
    "    lon = feeds[\"geometry\"][\"coordinates\"][0]\n",
    "    lat = feeds[\"geometry\"][\"coordinates\"][1]\n",
    "    mag = feeds[\"properties\"][\"mag\"]\n",
    "    \n",
    "    PastDayEarthquakeDF.loc[i, \"Location\"] = place\n",
    "    PastDayEarthquakeDF.loc[i, \"Latitude\"] = lat\n",
    "    PastDayEarthquakeDF.loc[i, \"Longitude\"] = lon\n",
    "    PastDayEarthquakeDF.loc[i, \"Magnitude\"] = mag    \n",
    "    i+=1\n",
    "\n",
    "PastDayEarthquakeDF.head(1000)\n",
    "\n",
    "#Save the retrieved PastDayEarthquake data to a CSV file.\n",
    "\n",
    "PastDayEarthquakeDF.to_csv(\"Output\\PastDayEarthQuake.csv\", index=False)\n"
   ]
  },
  {
   "cell_type": "code",
   "execution_count": 288,
   "metadata": {},
   "outputs": [],
   "source": [
    "# Forming the Infobox content for each Marker. \n",
    "\n",
    "locations = PastDayEarthquakeDF[[\"Latitude\", \"Longitude\"]].astype(float)\n",
    "places = PastDayEarthquakeDF[\"Location\"]\n",
    "magnitude = PastDayEarthquakeDF[\"Magnitude\"].astype(float)\n",
    "\n",
    "EQInfo =[]\n",
    "\n",
    "# Forming a list of strings with Location and Magnitude\n",
    "\n",
    "for loc,mag in zip(places, magnitude):\n",
    "     EQInfo.append(f\"Location {loc} and  Magnitude: {mag}\")\n",
    "\n"
   ]
  },
  {
   "cell_type": "code",
   "execution_count": 289,
   "metadata": {},
   "outputs": [
    {
     "data": {
      "application/vnd.jupyter.widget-view+json": {
       "model_id": "416e4605e19e4b4ba97f0b469d8ecf7e",
       "version_major": 2,
       "version_minor": 0
      },
      "text/plain": [
       "Figure(layout=FigureLayout(height='420px'))"
      ]
     },
     "metadata": {},
     "output_type": "display_data"
    }
   ],
   "source": [
    "# Plot gmap Marker map\n",
    "fig = gmaps.figure(map_type=\"HYBRID\")\n",
    "\n",
    "marker_layer = gmaps.marker_layer(locations, info_box_content=EQInfo)\n",
    "\n",
    "fig.add_layer(marker_layer)\n",
    "\n",
    "fig\n",
    "\n",
    "# embed_minimal_html('PastDayEarthquake.html', views=[fig])"
   ]
  },
  {
   "cell_type": "markdown",
   "metadata": {},
   "source": [
    "### Human Induced earthquake Data Cleaning"
   ]
  },
  {
   "cell_type": "code",
   "execution_count": 290,
   "metadata": {},
   "outputs": [],
   "source": [
    "HIEData = pd.read_csv(\"Resources\\The_Human_Induced_Earthquake_Database - HiQuake.csv\")\n"
   ]
  },
  {
   "cell_type": "code",
   "execution_count": 291,
   "metadata": {},
   "outputs": [
    {
     "data": {
      "text/html": [
       "<div>\n",
       "<style scoped>\n",
       "    .dataframe tbody tr th:only-of-type {\n",
       "        vertical-align: middle;\n",
       "    }\n",
       "\n",
       "    .dataframe tbody tr th {\n",
       "        vertical-align: top;\n",
       "    }\n",
       "\n",
       "    .dataframe thead th {\n",
       "        text-align: right;\n",
       "    }\n",
       "</style>\n",
       "<table border=\"1\" class=\"dataframe\">\n",
       "  <thead>\n",
       "    <tr style=\"text-align: right;\">\n",
       "      <th></th>\n",
       "      <th>Country</th>\n",
       "      <th>Main Cause</th>\n",
       "      <th>Sub Cause</th>\n",
       "      <th>Latitude</th>\n",
       "      <th>Longitude</th>\n",
       "      <th>Magnitude</th>\n",
       "      <th>DateofOccurence</th>\n",
       "      <th>Depth</th>\n",
       "    </tr>\n",
       "  </thead>\n",
       "  <tbody>\n",
       "    <tr>\n",
       "      <th>2</th>\n",
       "      <td>Botswana</td>\n",
       "      <td>Coal Bed Methane (CBM)</td>\n",
       "      <td>Coal Bed Methane (CBM)</td>\n",
       "      <td>-22.586373</td>\n",
       "      <td>25.84591</td>\n",
       "      <td>6.3</td>\n",
       "      <td>2017.0</td>\n",
       "      <td>25200</td>\n",
       "    </tr>\n",
       "    <tr>\n",
       "      <th>3</th>\n",
       "      <td>UK</td>\n",
       "      <td>Construction</td>\n",
       "      <td>Coastal engineering (geoengineering)</td>\n",
       "      <td>51.104297</td>\n",
       "      <td>1.271382</td>\n",
       "      <td>4.2</td>\n",
       "      <td>2007.0</td>\n",
       "      <td>500</td>\n",
       "    </tr>\n",
       "    <tr>\n",
       "      <th>4</th>\n",
       "      <td>Taiwan</td>\n",
       "      <td>Construction</td>\n",
       "      <td>Construction</td>\n",
       "      <td>25.033985</td>\n",
       "      <td>121.56442</td>\n",
       "      <td>3.8</td>\n",
       "      <td>2004.0</td>\n",
       "      <td>10000</td>\n",
       "    </tr>\n",
       "    <tr>\n",
       "      <th>6</th>\n",
       "      <td>Uzbekistan</td>\n",
       "      <td>Conventional Oil and Gas</td>\n",
       "      <td>Gas extraction and storage</td>\n",
       "      <td>40.216331</td>\n",
       "      <td>63.465234</td>\n",
       "      <td>7.3</td>\n",
       "      <td>1976.0</td>\n",
       "      <td>10000-20000</td>\n",
       "    </tr>\n",
       "    <tr>\n",
       "      <th>7</th>\n",
       "      <td>USA</td>\n",
       "      <td>Conventional Oil and Gas</td>\n",
       "      <td>Oil extraction and Secondary recovery (water i...</td>\n",
       "      <td>36.138932</td>\n",
       "      <td>-120.3809</td>\n",
       "      <td>6.5</td>\n",
       "      <td>1983.0</td>\n",
       "      <td>10000</td>\n",
       "    </tr>\n",
       "  </tbody>\n",
       "</table>\n",
       "</div>"
      ],
      "text/plain": [
       "      Country                Main Cause  \\\n",
       "2    Botswana    Coal Bed Methane (CBM)   \n",
       "3          UK              Construction   \n",
       "4      Taiwan              Construction   \n",
       "6  Uzbekistan  Conventional Oil and Gas   \n",
       "7         USA  Conventional Oil and Gas   \n",
       "\n",
       "                                           Sub Cause   Latitude  Longitude  \\\n",
       "2                             Coal Bed Methane (CBM) -22.586373   25.84591   \n",
       "3               Coastal engineering (geoengineering)  51.104297   1.271382   \n",
       "4                                       Construction  25.033985  121.56442   \n",
       "6                         Gas extraction and storage  40.216331  63.465234   \n",
       "7  Oil extraction and Secondary recovery (water i...  36.138932  -120.3809   \n",
       "\n",
       "   Magnitude  DateofOccurence        Depth  \n",
       "2        6.3           2017.0        25200  \n",
       "3        4.2           2007.0          500  \n",
       "4        3.8           2004.0        10000  \n",
       "6        7.3           1976.0  10000-20000  \n",
       "7        6.5           1983.0        10000  "
      ]
     },
     "execution_count": 291,
     "metadata": {},
     "output_type": "execute_result"
    }
   ],
   "source": [
    "country = HIEData[\"Country\"]\n",
    "Maincause = HIEData[\"Earthquake cause (main class)\"]\n",
    "Subcause = HIEData[\"Earthquake cause (subclass)\"]\n",
    "Latitude = HIEData[\"Latitude (approximate)\"]\n",
    "Longitude  = HIEData[\"Longitude (approximate)\"]\n",
    "Magnitude = HIEData[\"Observed maximum magnitude (Mmax)\"]\n",
    "DateofOccurence = HIEData[\"Year of Mmax\"].replace(\"NaN\", 0)\n",
    "Depth = HIEData[\"Depth of Mmax (m)\"].replace(\"NaN\", 0)\n",
    "\n",
    "HIEData_formatted = pd.DataFrame({\"Country\":country, \n",
    "                                  \"Main Cause\" : Maincause,\n",
    "                                  \"Sub Cause\" : Subcause, \n",
    "                                  \"Latitude\" :Latitude, \n",
    "                                  \"Longitude\" :Longitude, \n",
    "                                  \"Magnitude\": Magnitude,\n",
    "                                  \"DateofOccurence\": DateofOccurence , \n",
    "                                  \"Depth\" : Depth\n",
    "   \n",
    "                                 })\n",
    "\n",
    "clean_HIEData = HIEData_formatted.dropna(how=\"any\")\n",
    "\n",
    "clean_HIEData.head()"
   ]
  },
  {
   "cell_type": "markdown",
   "metadata": {},
   "source": [
    "####  Magnitude Vs Depth plotting\n",
    "The strength of shaking from an earthquake diminishes with increasing distance from the earthquake's source, so the strength of shaking at the surface from an earthquake that occurs at 500km deep is considerably less than if the same earthquake had occurred at 20 km depth.\n",
    "\n"
   ]
  },
  {
   "cell_type": "code",
   "execution_count": 292,
   "metadata": {},
   "outputs": [],
   "source": [
    "Indexedclean_HIEData = clean_HIEData.set_index(\"Country\")\n",
    "\n",
    "HIQuakes = Indexedclean_HIEData[[\"Magnitude\", \"Depth\"]]\n",
    "\n",
    "HIQuakes[\"Depth\"] = HIQuakes[\"Depth\"].apply(pd.to_numeric, errors='coerce')\n",
    "\n",
    "HIQuakes = HIQuakes.dropna(how=\"any\")\n"
   ]
  },
  {
   "cell_type": "code",
   "execution_count": 293,
   "metadata": {
    "scrolled": true
   },
   "outputs": [
    {
     "data": {
      "image/png": "[encoded data removed]",
      "text/plain": [
       "<Figure size 432x288 with 1 Axes>"
      ]
     },
     "metadata": {
      "needs_background": "light"
     },
     "output_type": "display_data"
    }
   ],
   "source": [
    "AllHIMags = HIQuakes[\"Magnitude\"]\n",
    "AllDepth =HIQuakes[\"Depth\"]\n",
    "\n",
    "\n",
    "plt.bar(AllHIMags, AllDepth, color=\"#FF6550\" , alpha =0.75)\n",
    "plt.ylabel(\"Depth (in meters)\")\n",
    "plt.xlabel(\"Magnitude\")\n",
    "plt.title (\"Magnitude Vs Depth\")\n",
    "plt.xlim(0,9)\n",
    "plt.grid()\n",
    "\n",
    "plt.savefig(\"Images\\Magnitude Vs Depth.png\")\n",
    "# plt.show()"
   ]
  },
  {
   "cell_type": "markdown",
   "metadata": {},
   "source": [
    "### Classification of Human Induced EarthQuake for USA over the years"
   ]
  },
  {
   "cell_type": "code",
   "execution_count": 294,
   "metadata": {},
   "outputs": [
    {
     "data": {
      "text/html": [
       "<div>\n",
       "<style scoped>\n",
       "    .dataframe tbody tr th:only-of-type {\n",
       "        vertical-align: middle;\n",
       "    }\n",
       "\n",
       "    .dataframe tbody tr th {\n",
       "        vertical-align: top;\n",
       "    }\n",
       "\n",
       "    .dataframe thead th {\n",
       "        text-align: right;\n",
       "    }\n",
       "</style>\n",
       "<table border=\"1\" class=\"dataframe\">\n",
       "  <thead>\n",
       "    <tr style=\"text-align: right;\">\n",
       "      <th></th>\n",
       "      <th>Magnitude</th>\n",
       "      <th>Years</th>\n",
       "    </tr>\n",
       "  </thead>\n",
       "  <tbody>\n",
       "    <tr>\n",
       "      <th>0</th>\n",
       "      <td>6.5</td>\n",
       "      <td>1983.0</td>\n",
       "    </tr>\n",
       "    <tr>\n",
       "      <th>1</th>\n",
       "      <td>6.1</td>\n",
       "      <td>1985.0</td>\n",
       "    </tr>\n",
       "    <tr>\n",
       "      <th>2</th>\n",
       "      <td>5.9</td>\n",
       "      <td>1987.0</td>\n",
       "    </tr>\n",
       "    <tr>\n",
       "      <th>3</th>\n",
       "      <td>5.3</td>\n",
       "      <td>1978.0</td>\n",
       "    </tr>\n",
       "    <tr>\n",
       "      <th>4</th>\n",
       "      <td>4.9</td>\n",
       "      <td>1997.0</td>\n",
       "    </tr>\n",
       "  </tbody>\n",
       "</table>\n",
       "</div>"
      ],
      "text/plain": [
       "   Magnitude   Years\n",
       "0        6.5  1983.0\n",
       "1        6.1  1985.0\n",
       "2        5.9  1987.0\n",
       "3        5.3  1978.0\n",
       "4        4.9  1997.0"
      ]
     },
     "execution_count": 294,
     "metadata": {},
     "output_type": "execute_result"
    }
   ],
   "source": [
    "Indexedclean_HIEDataUpdated = Indexedclean_HIEData.loc[\"USA\", [\"Magnitude\", \"DateofOccurence\"]]\n",
    "\n",
    "\n",
    "xaxis = Indexedclean_HIEDataUpdated[\"Magnitude\"]\n",
    "yaxis = Indexedclean_HIEDataUpdated[\"DateofOccurence\"].apply(pd.to_numeric, errors='coerce').unique()\n",
    "\n",
    "zippedtuples = list(zip(xaxis,yaxis))\n",
    "ZippedDF= pd.DataFrame(zippedtuples,  columns=['Magnitude','Years'])\n",
    "\n",
    "ZippedDF.head()\n"
   ]
  },
  {
   "cell_type": "code",
   "execution_count": 295,
   "metadata": {},
   "outputs": [],
   "source": [
    "#Create bins to classify the Earthquake magnitudes\n",
    "\n",
    "bins = [0, 2, 3, 4, 5, 6,7,8]\n",
    "labels =[\"Very Minor\",\"Minor\", \"Light\", \"Moderate\", \"Strong\", \"Major\", \"Great\"]\n",
    "\n",
    "ZippedDF[\"Magnitude Classification\"] = pd.cut(ZippedDF[\"Magnitude\"], bins=bins, labels=labels)\n",
    "\n"
   ]
  },
  {
   "cell_type": "code",
   "execution_count": 296,
   "metadata": {},
   "outputs": [
    {
     "data": {
      "image/png": "[encoded data removed]",
      "text/plain": [
       "<Figure size 720x576 with 1 Axes>"
      ]
     },
     "metadata": {},
     "output_type": "display_data"
    }
   ],
   "source": [
    "# Plot the classification using the Seaborn library\n",
    "\n",
    "sns.set(style=\"dark\")\n",
    "\n",
    "a4_dims = (10, 8)\n",
    "fig, ax = plt.subplots(figsize=a4_dims)\n",
    "\n",
    "ax = sns.boxplot(ax=ax, x=ZippedDF[\"Magnitude Classification\"] , y=ZippedDF[\"Years\"])\n",
    "ax = sns.swarmplot(ax=ax, x=ZippedDF[\"Magnitude Classification\"] , y=ZippedDF[\"Years\"], color=\".2\").set_title(\"Human Induced earthquake classification for USA\")\n",
    "\n",
    "fig.savefig(\"Images\\Human Induced earthquake classification for USA.png\")"
   ]
  },
  {
   "cell_type": "markdown",
   "metadata": {},
   "source": [
    "### Hypothesis : \n",
    "The magnitudes of HIQuakes caused by Mining is significantly different from magnitudes of HIQuakes caused by Water Reservoir Impoundment\n",
    "\n",
    "### Null Hypothesis: \n",
    "The magnitudes of HIQuakes caused by Mining is NOT significantly different from magnitudes of HIQuakes caused by Water Reservoir Impoundment"
   ]
  },
  {
   "cell_type": "code",
   "execution_count": 297,
   "metadata": {},
   "outputs": [
    {
     "name": "stdout",
     "output_type": "stream",
     "text": [
      "Mean of Water reservoir impoundment =4.64186046511628\n",
      "Mean of Mining =3.5537037037037034\n"
     ]
    }
   ],
   "source": [
    "# Retrieve the Magnitudes for \"Water reservoir impoundment\" cause and \"Mining\" cause\n",
    "\n",
    "WaterReserImpoundMags = clean_HIEData[clean_HIEData[\"Main Cause\"]==\"Water reservoir impoundment\"][\"Magnitude\"]\n",
    "MiningMags = clean_HIEData[clean_HIEData[\"Main Cause\"]==\"Mining\"][\"Magnitude\"]\n",
    "\n",
    "print(f\"Mean of Water reservoir impoundment ={WaterReserImpoundMags.mean()}\")\n",
    "print(f\"Mean of Mining ={MiningMags.mean()}\")\n",
    "\n"
   ]
  },
  {
   "cell_type": "code",
   "execution_count": 298,
   "metadata": {},
   "outputs": [
    {
     "data": {
      "image/png": "[encoded data removed]",
      "text/plain": [
       "<Figure size 432x288 with 2 Axes>"
      ]
     },
     "metadata": {},
     "output_type": "display_data"
    }
   ],
   "source": [
    "# Scatter Plot of Cause and Magnitude data\n",
    "\n",
    "plt.subplot(2, 1, 1)\n",
    "plt.scatter(range(len(WaterReserImpoundMags)), WaterReserImpoundMags, label=\"Water reservoir impoundment\")\n",
    "plt.scatter(range(len(MiningMags)), MiningMags, label=\"Mining\")\n",
    "plt.legend(bbox_to_anchor=(0., 1.02, 1., .102), loc='lower left',ncol=2, mode=\"expand\", borderaxespad=0.)\n",
    "\n",
    "# Histogram Plot of Cause and Magnitude data\n",
    "plt.subplot(2, 1, 2)\n",
    "plt.hist(WaterReserImpoundMags, 10, density=True, alpha=0.7, label=\"Water reservoir impoundment\")\n",
    "plt.hist(MiningMags, 10, density=True, alpha=0.7, label=\"Mining\")\n",
    "plt.axvline(WaterReserImpoundMags.mean(), color='b', linestyle='dashed', linewidth=1)\n",
    "plt.axvline(MiningMags.mean(), color='b', linestyle='dashed', linewidth=1)\n",
    "plt.legend(bbox_to_anchor=(0., 1.02, 1., .102), loc='lower left',ncol=2, mode=\"expand\", borderaxespad=0.) \n",
    "plt.tight_layout()\n",
    "plt.savefig(\"Images\\Statistics_Cause Vs Magnitude.png\")\n",
    "# plt.show()"
   ]
  },
  {
   "cell_type": "code",
   "execution_count": 299,
   "metadata": {},
   "outputs": [
    {
     "data": {
      "text/plain": [
       "Ttest_indResult(statistic=4.154549887965083, pvalue=7.793388460472081e-05)"
      ]
     },
     "execution_count": 299,
     "metadata": {},
     "output_type": "execute_result"
    }
   ],
   "source": [
    "# Execute a Independent t-test to verify the significance of the two dataset\n",
    "\n",
    "stats.ttest_ind(WaterReserImpoundMags,MiningMags, equal_var=False)"
   ]
  },
  {
   "attachments": {},
   "cell_type": "markdown",
   "metadata": {},
   "source": [
    "####  Independent t-test result : A pvalue of 7.79e-05  is compartively very smaller to the alpha (0.05),so we are rejecting the Null Hypothesis. \n",
    "The magnitudes of HIQuakes caused by Mining is significantly different from magnitudes of HIQuakes caused by Water Reservoir Impoundment. "
   ]
  }
 ],
 "metadata": {
  "kernelspec": {
   "display_name": "Python 3",
   "language": "python",
   "name": "python3"
  },
  "language_info": {
   "codemirror_mode": {
    "name": "ipython",
    "version": 3
   },
   "file_extension": ".py",
   "mimetype": "text/x-python",
   "name": "python",
   "nbconvert_exporter": "python",
   "pygments_lexer": "ipython3",
   "version": "3.7.1"
  }
 },
 "nbformat": 4,
 "nbformat_minor": 2
}
