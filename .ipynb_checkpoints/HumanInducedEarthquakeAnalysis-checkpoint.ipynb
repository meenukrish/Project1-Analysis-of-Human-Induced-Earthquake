{
 "cells": [
  {
   "cell_type": "markdown",
   "metadata": {},
   "source": [
    "# Project1- Analysis of Human Induced Earthquakes"
   ]
  },
  {
   "cell_type": "code",
   "execution_count": null,
   "metadata": {},
   "outputs": [],
   "source": [

    "#Himani made change to this file"
=======

    "#https://github.com/meenukrish/Project1-Analysis-of-Human-Induced-Earthquake.git"
=======
    "#Project 1\n",
    "\n",
    "#We have decided our project name as : What are the different factors that contribute to human induced earthquake in globally\n",
    "\n",
    "#Team members are: Himani Singh, Meenakshi Nadimuthu and Sadhana Kulkarni\n",
    "\n",
    "#Questions are as follows:\n",
    "\n",
    "#0.Distribution of human induced earthquake causes across different countries?"


   ]
  },
  {
   "cell_type": "markdown",
   "metadata": {},
   "source": []
  }
 ],
 "metadata": {
  "kernelspec": {
   "display_name": "Python 3",
   "language": "python",
   "name": "python3"
  },
  "language_info": {
   "codemirror_mode": {
    "name": "ipython",
    "version": 3
   },
   "file_extension": ".py",
   "mimetype": "text/x-python",
   "name": "python",
   "nbconvert_exporter": "python",
   "pygments_lexer": "ipython3",
   "version": "3.7.1"
  }
 },
 "nbformat": 4,
 "nbformat_minor": 2
}
